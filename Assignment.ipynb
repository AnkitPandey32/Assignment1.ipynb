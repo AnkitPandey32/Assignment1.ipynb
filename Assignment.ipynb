{
 "cells": [
  {
   "cell_type": "code",
   "execution_count": 2,
   "id": "e0e440ae-5b55-4ec3-b89a-2449a871c51d",
   "metadata": {},
   "outputs": [],
   "source": [
    "a = \"ankit\""
   ]
  },
  {
   "cell_type": "code",
   "execution_count": 3,
   "id": "abd14954-317c-4cf2-a249-2f1d0cfca017",
   "metadata": {},
   "outputs": [
    {
     "data": {
      "text/plain": [
       "str"
      ]
     },
     "execution_count": 3,
     "metadata": {},
     "output_type": "execute_result"
    }
   ],
   "source": [
    "type(a)"
   ]
  },
  {
   "cell_type": "code",
   "execution_count": 4,
   "id": "75d89001-8472-4e8b-90fe-4b3d3187b31b",
   "metadata": {},
   "outputs": [],
   "source": [
    "a = [2,3,4,5,6, \"ankit\", 2+3j, 87.34]"
   ]
  },
  {
   "cell_type": "code",
   "execution_count": 5,
   "id": "ec657e5a-0b08-4b40-aa95-52140d0f4266",
   "metadata": {},
   "outputs": [
    {
     "data": {
      "text/plain": [
       "list"
      ]
     },
     "execution_count": 5,
     "metadata": {},
     "output_type": "execute_result"
    }
   ],
   "source": [
    "type(a)"
   ]
  },
  {
   "cell_type": "code",
   "execution_count": 6,
   "id": "8495d63c-a98b-4a38-a5ff-c377372ae273",
   "metadata": {},
   "outputs": [],
   "source": [
    "a = 34.67"
   ]
  },
  {
   "cell_type": "code",
   "execution_count": 7,
   "id": "026c2b89-ec35-40d0-9a6a-dd20b16a2c61",
   "metadata": {},
   "outputs": [
    {
     "data": {
      "text/plain": [
       "float"
      ]
     },
     "execution_count": 7,
     "metadata": {},
     "output_type": "execute_result"
    }
   ],
   "source": [
    "type(a)"
   ]
  },
  {
   "cell_type": "code",
   "execution_count": 8,
   "id": "c8e4b19c-1cd6-43de-bea8-0ea52d6fb253",
   "metadata": {},
   "outputs": [],
   "source": [
    "a = (2,3,4,5, \"ankit\", \"pandey\")"
   ]
  },
  {
   "cell_type": "code",
   "execution_count": 9,
   "id": "9c073eeb-a2c0-4435-a1f2-4699dd0d4e15",
   "metadata": {},
   "outputs": [
    {
     "data": {
      "text/plain": [
       "tuple"
      ]
     },
     "execution_count": 9,
     "metadata": {},
     "output_type": "execute_result"
    }
   ],
   "source": [
    "type(a)"
   ]
  },
  {
   "cell_type": "code",
   "execution_count": 10,
   "id": "65827ade-7ab7-4eca-99cd-14602c889adc",
   "metadata": {},
   "outputs": [],
   "source": [
    "var1 = \"\""
   ]
  },
  {
   "cell_type": "code",
   "execution_count": 11,
   "id": "6bec918f-d421-41c4-90d4-e4a53fa94af3",
   "metadata": {},
   "outputs": [
    {
     "data": {
      "text/plain": [
       "str"
      ]
     },
     "execution_count": 11,
     "metadata": {},
     "output_type": "execute_result"
    }
   ],
   "source": [
    "type(var1)"
   ]
  },
  {
   "cell_type": "code",
   "execution_count": 13,
   "id": "7ecec45d-2a89-491a-8b05-259e688f5a12",
   "metadata": {},
   "outputs": [],
   "source": [
    "var2 = '[DS, ML, Python]'"
   ]
  },
  {
   "cell_type": "code",
   "execution_count": 14,
   "id": "8b9e1cf9-7dee-4056-8395-8abe9f723caa",
   "metadata": {},
   "outputs": [
    {
     "data": {
      "text/plain": [
       "str"
      ]
     },
     "execution_count": 14,
     "metadata": {},
     "output_type": "execute_result"
    }
   ],
   "source": [
    "type(var2)"
   ]
  },
  {
   "cell_type": "raw",
   "id": "4250773c-fda2-433f-89c5-b88f8d91192a",
   "metadata": {},
   "source": [
    "var3 = [\"DS\", \"ML\", \"Python\"]"
   ]
  },
  {
   "cell_type": "code",
   "execution_count": 16,
   "id": "0cb015f8-c124-4edc-bf9f-b526775dce9e",
   "metadata": {},
   "outputs": [],
   "source": [
    "var3 = ['DS', 'ML', 'Python']"
   ]
  },
  {
   "cell_type": "code",
   "execution_count": 17,
   "id": "f13f707f-54a1-4220-9708-8b0a52c51acb",
   "metadata": {},
   "outputs": [
    {
     "data": {
      "text/plain": [
       "list"
      ]
     },
     "execution_count": 17,
     "metadata": {},
     "output_type": "execute_result"
    }
   ],
   "source": [
    "type(var3)"
   ]
  },
  {
   "cell_type": "code",
   "execution_count": 18,
   "id": "58c55056-77df-47e6-8b2c-236a3576d356",
   "metadata": {},
   "outputs": [],
   "source": [
    "var4 = 1."
   ]
  },
  {
   "cell_type": "code",
   "execution_count": 19,
   "id": "a82ea092-cb95-4977-9b4e-34e316acf9d5",
   "metadata": {},
   "outputs": [
    {
     "data": {
      "text/plain": [
       "float"
      ]
     },
     "execution_count": 19,
     "metadata": {},
     "output_type": "execute_result"
    }
   ],
   "source": [
    "type(var4)"
   ]
  },
  {
   "cell_type": "code",
   "execution_count": 20,
   "id": "db3fd9a7-f8f0-4880-8f0a-1e3b4ef74a49",
   "metadata": {},
   "outputs": [
    {
     "data": {
      "text/plain": [
       "0.5"
      ]
     },
     "execution_count": 20,
     "metadata": {},
     "output_type": "execute_result"
    }
   ],
   "source": [
    "1/2"
   ]
  },
  {
   "cell_type": "code",
   "execution_count": 21,
   "id": "9d86d8db-efab-4546-9608-b5a31997de0a",
   "metadata": {},
   "outputs": [
    {
     "data": {
      "text/plain": [
       "float"
      ]
     },
     "execution_count": 21,
     "metadata": {},
     "output_type": "execute_result"
    }
   ],
   "source": [
    "type(1/2)"
   ]
  },
  {
   "cell_type": "code",
   "execution_count": 22,
   "id": "36ac66aa-c10b-4616-b378-14b7f7d19095",
   "metadata": {},
   "outputs": [
    {
     "data": {
      "text/plain": [
       "1"
      ]
     },
     "execution_count": 22,
     "metadata": {},
     "output_type": "execute_result"
    }
   ],
   "source": [
    "3%2"
   ]
  },
  {
   "cell_type": "code",
   "execution_count": 23,
   "id": "4d85ae54-d9fa-48f3-b39b-c9f77393ddc5",
   "metadata": {},
   "outputs": [
    {
     "data": {
      "text/plain": [
       "int"
      ]
     },
     "execution_count": 23,
     "metadata": {},
     "output_type": "execute_result"
    }
   ],
   "source": [
    "type(3%2)"
   ]
  },
  {
   "cell_type": "code",
   "execution_count": 24,
   "id": "5215c1dd-ed37-4947-bded-2f9132d6cad8",
   "metadata": {},
   "outputs": [
    {
     "data": {
      "text/plain": [
       "0"
      ]
     },
     "execution_count": 24,
     "metadata": {},
     "output_type": "execute_result"
    }
   ],
   "source": [
    "6//12"
   ]
  },
  {
   "cell_type": "code",
   "execution_count": 25,
   "id": "67b32b94-7c05-4b86-a3f7-be2d15b98a11",
   "metadata": {},
   "outputs": [
    {
     "data": {
      "text/plain": [
       "int"
      ]
     },
     "execution_count": 25,
     "metadata": {},
     "output_type": "execute_result"
    }
   ],
   "source": [
    "type(6//12)"
   ]
  },
  {
   "cell_type": "code",
   "execution_count": 26,
   "id": "ababd71e-d63d-49c0-8cbe-c2322abaa3ae",
   "metadata": {},
   "outputs": [
    {
     "data": {
      "text/plain": [
       "8"
      ]
     },
     "execution_count": 26,
     "metadata": {},
     "output_type": "execute_result"
    }
   ],
   "source": [
    "2**3"
   ]
  },
  {
   "cell_type": "code",
   "execution_count": 27,
   "id": "1370ee7a-d67a-40c9-859d-acae4799a8f4",
   "metadata": {},
   "outputs": [
    {
     "data": {
      "text/plain": [
       "int"
      ]
     },
     "execution_count": 27,
     "metadata": {},
     "output_type": "execute_result"
    }
   ],
   "source": [
    "type(2**3)"
   ]
  },
  {
   "cell_type": "code",
   "execution_count": 32,
   "id": "11ef14ce-c674-438f-a07f-c415ac471a62",
   "metadata": {},
   "outputs": [
    {
     "name": "stdout",
     "output_type": "stream",
     "text": [
      "1 <class 'int'>\n",
      "2 <class 'int'>\n",
      "3 <class 'int'>\n",
      "4 <class 'int'>\n",
      "5 <class 'int'>\n",
      "6 <class 'int'>\n",
      "ankit <class 'str'>\n",
      "(7+3j) <class 'complex'>\n",
      "99.99 <class 'float'>\n",
      "True <class 'bool'>\n"
     ]
    }
   ],
   "source": [
    "b = [1,2,3,4,5,6, \"ankit\", 7+3j, 99.99, True]\n",
    "for b in b :\n",
    "    print(b, type(b))"
   ]
  },
  {
   "cell_type": "code",
   "execution_count": 33,
   "id": "21c49c4a-3f57-4ffa-b974-020e76dfaa4e",
   "metadata": {},
   "outputs": [
    {
     "ename": "SyntaxError",
     "evalue": "cannot assign to expression here. Maybe you meant '==' instead of '='? (542403789.py, line 4)",
     "output_type": "error",
     "traceback": [
      "\u001b[0;36m  Cell \u001b[0;32mIn[33], line 4\u001b[0;36m\u001b[0m\n\u001b[0;31m    while a % b = 0 :\u001b[0m\n\u001b[0m          ^\u001b[0m\n\u001b[0;31mSyntaxError\u001b[0m\u001b[0;31m:\u001b[0m cannot assign to expression here. Maybe you meant '==' instead of '='?\n"
     ]
    }
   ],
   "source": [
    "a = 72\n",
    "b = 8\n",
    "count = 0 \n",
    "while a % b = 0 :\n",
    "    a = a / b\n",
    "    count += 1\n",
    "    if count > 0 :\n",
    "        print(f\"{a * b} / {b} {count} time.\")\n",
    "        else:\n",
    "            print(f\"{a * b} is not divided by {b}.\")"
   ]
  },
  {
   "cell_type": "code",
   "execution_count": 34,
   "id": "9f693535-c0c8-449b-83d0-d36a21c0aca7",
   "metadata": {},
   "outputs": [
    {
     "ename": "SyntaxError",
     "evalue": "invalid syntax (1842174085.py, line 9)",
     "output_type": "error",
     "traceback": [
      "\u001b[0;36m  Cell \u001b[0;32mIn[34], line 9\u001b[0;36m\u001b[0m\n\u001b[0;31m    else:\u001b[0m\n\u001b[0m    ^\u001b[0m\n\u001b[0;31mSyntaxError\u001b[0m\u001b[0;31m:\u001b[0m invalid syntax\n"
     ]
    }
   ],
   "source": [
    "a = 72\n",
    "b = 8\n",
    "count = 0 \n",
    "while a % b == 0 :\n",
    "    a = a / b\n",
    "    count += 1\n",
    "    if count > 0 :\n",
    "        print(f\"{a * b} / {b} {count} time.\")\n",
    "        else:\n",
    "            print(f\"{a * b} is not divided by {b}.\")"
   ]
  },
  {
   "cell_type": "code",
   "execution_count": 35,
   "id": "e972e3ed-0248-4452-9c17-ff53dc1542cb",
   "metadata": {},
   "outputs": [
    {
     "ename": "SyntaxError",
     "evalue": "invalid syntax (3603405140.py, line 9)",
     "output_type": "error",
     "traceback": [
      "\u001b[0;36m  Cell \u001b[0;32mIn[35], line 9\u001b[0;36m\u001b[0m\n\u001b[0;31m    else:\u001b[0m\n\u001b[0m    ^\u001b[0m\n\u001b[0;31mSyntaxError\u001b[0m\u001b[0;31m:\u001b[0m invalid syntax\n"
     ]
    }
   ],
   "source": [
    "a = 72\n",
    "b = 8\n",
    "count = 0 \n",
    "while a % b == 0 :\n",
    "    a = a / b\n",
    "    count += 1\n",
    "    if count > 0 :\n",
    "        print(f\"{a * b} is divided by {b} {count} time.\")\n",
    "        else:\n",
    "            print(f\"{a * b} is not divided by {b}.\")"
   ]
  },
  {
   "cell_type": "code",
   "execution_count": 37,
   "id": "4eea0ab1-c190-458c-b1a7-157288c336ad",
   "metadata": {},
   "outputs": [
    {
     "name": "stdout",
     "output_type": "stream",
     "text": [
      "9.0 is divisible by 9 2 times.\n"
     ]
    }
   ],
   "source": [
    "A = 81\n",
    "B = 9\n",
    "\n",
    "count = 0\n",
    "while A % B == 0:\n",
    "    A = A / B\n",
    "    count += 1\n",
    "\n",
    "if count > 0:\n",
    "    print(f\"{A * B} is divisible by {B} {count} times.\")\n",
    "else:\n",
    "    print(f\"{A * B} is not divisible by {B}.\")"
   ]
  },
  {
   "cell_type": "code",
   "execution_count": 38,
   "id": "f206f63b-d97d-4e72-81c9-c6b95c8cf41d",
   "metadata": {},
   "outputs": [
    {
     "name": "stdout",
     "output_type": "stream",
     "text": [
      "560 is not divisible by 8.\n"
     ]
    }
   ],
   "source": [
    "A = 70\n",
    "B = 8\n",
    "\n",
    "count = 0\n",
    "while A % B == 0:\n",
    "    A = A / B\n",
    "    count += 1\n",
    "\n",
    "if count > 0:\n",
    "    print(f\"{A * B} is divisible by {B} {count} times.\")\n",
    "else:\n",
    "    print(f\"{A * B} is not divisible by {B}.\")"
   ]
  },
  {
   "cell_type": "code",
   "execution_count": 39,
   "id": "e6fd2caa-8e87-46e9-9320-03443546c61a",
   "metadata": {},
   "outputs": [
    {
     "name": "stdout",
     "output_type": "stream",
     "text": [
      "2 is not divisible by 3.\n",
      "7 is not divisible by 3.\n",
      "15 is divisible by 3.\n",
      "18 is divisible by 3.\n",
      "24 is divisible by 3.\n",
      "33 is divisible by 3.\n",
      "40 is not divisible by 3.\n",
      "42 is divisible by 3.\n",
      "51 is divisible by 3.\n",
      "56 is not divisible by 3.\n",
      "60 is divisible by 3.\n",
      "66 is divisible by 3.\n",
      "70 is not divisible by 3.\n",
      "75 is divisible by 3.\n",
      "81 is divisible by 3.\n",
      "87 is divisible by 3.\n",
      "91 is not divisible by 3.\n",
      "99 is divisible by 3.\n",
      "102 is divisible by 3.\n",
      "108 is divisible by 3.\n",
      "111 is divisible by 3.\n",
      "120 is divisible by 3.\n",
      "129 is divisible by 3.\n",
      "133 is not divisible by 3.\n",
      "144 is divisible by 3.\n"
     ]
    }
   ],
   "source": [
    "d = [2, 7, 15, 18, 24, 33, 40, 42, 51, 56, 60, 66, 70, 75, 81, 87, 91, 99, 102, 108, 111, 120, 129, 133, 144]\n",
    "\n",
    "for d in d:\n",
    "    if d % 3 == 0:\n",
    "        print(f\"{d} is divisible by 3.\")\n",
    "    else:\n",
    "        print(f\"{d} is not divisible by 3.\")"
   ]
  },
  {
   "cell_type": "code",
   "execution_count": 1,
   "id": "c7c54cd6-e617-425d-bcab-2ae291229106",
   "metadata": {},
   "outputs": [],
   "source": [
    "a = \"hello\" "
   ]
  },
  {
   "cell_type": "code",
   "execution_count": 2,
   "id": "4f323fdc-b03b-4144-8412-3b4bf1df3545",
   "metadata": {},
   "outputs": [
    {
     "name": "stdout",
     "output_type": "stream",
     "text": [
      "hello\n"
     ]
    }
   ],
   "source": [
    "print(a)"
   ]
  },
  {
   "cell_type": "code",
   "execution_count": 3,
   "id": "01607c0b-c5a1-402c-a1c2-0aa74435e11f",
   "metadata": {},
   "outputs": [],
   "source": [
    "a += \"ankit\""
   ]
  },
  {
   "cell_type": "code",
   "execution_count": 4,
   "id": "10efdb58-3aeb-4dc8-aa15-3f41fee1a055",
   "metadata": {},
   "outputs": [
    {
     "name": "stdout",
     "output_type": "stream",
     "text": [
      "helloankit\n"
     ]
    }
   ],
   "source": [
    "print(a)"
   ]
  },
  {
   "cell_type": "code",
   "execution_count": 6,
   "id": "f68fffad-7b74-40d7-b966-996156c557b0",
   "metadata": {},
   "outputs": [
    {
     "ename": "SyntaxError",
     "evalue": "cannot assign to literal here. Maybe you meant '==' instead of '='? (2795204752.py, line 1)",
     "output_type": "error",
     "traceback": [
      "\u001b[0;36m  Cell \u001b[0;32mIn[6], line 1\u001b[0;36m\u001b[0m\n\u001b[0;31m    1 = [1,2,3,4,5]\u001b[0m\n\u001b[0m    ^\u001b[0m\n\u001b[0;31mSyntaxError\u001b[0m\u001b[0;31m:\u001b[0m cannot assign to literal here. Maybe you meant '==' instead of '='?\n"
     ]
    }
   ],
   "source": [
    "1 = [1,2,3,4,5]"
   ]
  },
  {
   "cell_type": "code",
   "execution_count": 7,
   "id": "05a97600-e3dd-4b20-8405-87a53ed3b3c4",
   "metadata": {},
   "outputs": [
    {
     "ename": "SyntaxError",
     "evalue": "cannot assign to literal here. Maybe you meant '==' instead of '='? (2795204752.py, line 1)",
     "output_type": "error",
     "traceback": [
      "\u001b[0;36m  Cell \u001b[0;32mIn[7], line 1\u001b[0;36m\u001b[0m\n\u001b[0;31m    1 = [1,2,3,4,5]\u001b[0m\n\u001b[0m    ^\u001b[0m\n\u001b[0;31mSyntaxError\u001b[0m\u001b[0;31m:\u001b[0m cannot assign to literal here. Maybe you meant '==' instead of '='?\n"
     ]
    }
   ],
   "source": [
    "1 = [1,2,3,4,5]"
   ]
  },
  {
   "cell_type": "code",
   "execution_count": 8,
   "id": "cccffc0d-cdc6-4a97-b583-adce4f230332",
   "metadata": {},
   "outputs": [],
   "source": [
    "a = [1,2,3,4]"
   ]
  },
  {
   "cell_type": "code",
   "execution_count": 9,
   "id": "b6463137-35ff-49c5-9e17-f9923867503a",
   "metadata": {},
   "outputs": [
    {
     "name": "stdout",
     "output_type": "stream",
     "text": [
      "[1, 2, 3, 4]\n"
     ]
    }
   ],
   "source": [
    "print(a)"
   ]
  },
  {
   "cell_type": "code",
   "execution_count": 10,
   "id": "aa36f6e8-5f8b-4c35-9719-ac6bab3df03f",
   "metadata": {},
   "outputs": [],
   "source": [
    "a.append(4)"
   ]
  },
  {
   "cell_type": "code",
   "execution_count": 11,
   "id": "b7187a93-5283-4531-9362-2fc7207ee4ae",
   "metadata": {},
   "outputs": [
    {
     "name": "stdout",
     "output_type": "stream",
     "text": [
      "[1, 2, 3, 4, 4]\n"
     ]
    }
   ],
   "source": [
    "print(a)"
   ]
  },
  {
   "cell_type": "code",
   "execution_count": 12,
   "id": "7d7dbd84-e2b1-474d-b82d-831b2016e94d",
   "metadata": {},
   "outputs": [],
   "source": [
    "a.append(5)"
   ]
  },
  {
   "cell_type": "code",
   "execution_count": 13,
   "id": "8f2d1301-9325-45d3-9973-c71e595cf380",
   "metadata": {},
   "outputs": [
    {
     "name": "stdout",
     "output_type": "stream",
     "text": [
      "[1, 2, 3, 4, 4, 5]\n"
     ]
    }
   ],
   "source": [
    "print(a)"
   ]
  },
  {
   "cell_type": "code",
   "execution_count": null,
   "id": "e65747f6-ebea-4441-a596-f8e61369ba71",
   "metadata": {},
   "outputs": [],
   "source": []
  }
 ],
 "metadata": {
  "kernelspec": {
   "display_name": "Python 3 (ipykernel)",
   "language": "python",
   "name": "python3"
  },
  "language_info": {
   "codemirror_mode": {
    "name": "ipython",
    "version": 3
   },
   "file_extension": ".py",
   "mimetype": "text/x-python",
   "name": "python",
   "nbconvert_exporter": "python",
   "pygments_lexer": "ipython3",
   "version": "3.10.8"
  }
 },
 "nbformat": 4,
 "nbformat_minor": 5
}
